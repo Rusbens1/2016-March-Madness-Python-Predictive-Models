{
 "cells": [
  {
   "cell_type": "code",
   "execution_count": 1,
   "metadata": {
    "collapsed": false
   },
   "outputs": [],
   "source": [
    "import pandas as pd\n",
    "import numpy as np\n",
    "\n",
    "from sklearn.cross_validation import train_test_split\n",
    "from sklearn import metrics\n",
    "from sklearn.feature_selection import RFE\n",
    "\n",
    "from sklearn.linear_model import LogisticRegression\n",
    "from sklearn.svm import SVC\n",
    "from sklearn.ensemble import RandomForestClassifier\n",
    "from sklearn.tree import DecisionTreeClassifier\n",
    "from sklearn.ensemble import BaggingClassifier\n",
    "from sklearn.naive_bayes import GaussianNB\n",
    "from sklearn.neighbors import KNeighborsClassifier\n",
    "from sklearn.neural_network import BernoulliRBM\n",
    "from sklearn import tree\n",
    "from sklearn.metrics import roc_curve, auc\n",
    "\n",
    "\n",
    "import seaborn as sns\n",
    "sns.set_style('darkgrid')\n",
    "import matplotlib.pyplot as plt\n",
    "\n",
    "%matplotlib inline"
   ]
  },
  {
   "cell_type": "code",
   "execution_count": 2,
   "metadata": {
    "collapsed": false
   },
   "outputs": [
    {
     "data": {
      "text/plain": [
       "Index([u'Unnamed: 0', u'AdjDE_x', u'AdjDE_y', u'AdjOE_x', u'AdjOE_y',\n",
       "       u'AdjTempo_x', u'AdjTempo_y', u'DE_x', u'DE_y', u'OE_x', u'OE_y',\n",
       "       u'Pythag_x', u'Pythag_y', u'RankAdjDE_x', u'RankAdjDE_y',\n",
       "       u'RankAdjOE_x', u'RankAdjOE_y', u'RankAdjTempo_x', u'RankAdjTempo_y',\n",
       "       u'RankDE_x', u'RankDE_y', u'RankOE_x', u'RankOE_y', u'RankPythag_x',\n",
       "       u'RankPythag_y', u'RankTempo_x', u'RankTempo_y', u'Result', u'Tempo_x',\n",
       "       u'Tempo_y', u'game_id', u'season', u't1TeamName', u't1_id', u't1_score',\n",
       "       u't1_teamname', u't2TeamName', u't2_id', u't2_score', u't2_teamname',\n",
       "       u'team1_fg2pct', u'team1_fg3pct', u'team1_ftpct', u'team2_fg2pct',\n",
       "       u'team2_fg3pct', u'team2_ftpct', u'x_pt_team_season_losses',\n",
       "       u'x_pt_team_season_wins', u'x_rpi_rating', u'x_seed',\n",
       "       u'y_pt_team_season_losses', u'y_pt_team_season_wins', u'y_rpi_rating',\n",
       "       u'y_seed'],\n",
       "      dtype='object')"
      ]
     },
     "execution_count": 2,
     "metadata": {},
     "output_type": "execute_result"
    }
   ],
   "source": [
    "dataframe = pd.read_csv('Final_train.csv')\n",
    "dataframe.columns"
   ]
  },
  {
   "cell_type": "code",
   "execution_count": 3,
   "metadata": {
    "collapsed": true
   },
   "outputs": [],
   "source": [
    "columns = [\n",
    " 'AdjDE_x',\n",
    " 'AdjDE_y',\n",
    " 'AdjOE_x',\n",
    " 'AdjOE_y',\n",
    " 'AdjTempo_x',\n",
    " 'AdjTempo_y',\n",
    " 'Pythag_x',\n",
    " 'Pythag_y',\n",
    " 'team1_fg2pct',\n",
    " 'team1_fg3pct',\n",
    " 'team1_ftpct',\n",
    " 'team2_fg2pct',\n",
    " 'team2_fg3pct',\n",
    " 'team2_ftpct',\n",
    " 'x_pt_team_season_losses',\n",
    " 'x_pt_team_season_wins',\n",
    " 'x_rpi_rating',\n",
    " 'x_seed',\n",
    " 'y_pt_team_season_losses',\n",
    " 'y_pt_team_season_wins',\n",
    " 'y_rpi_rating',\n",
    " 'y_seed']\n",
    "\n",
    "fantastic_four = ['Pythag_x', 'Pythag_y', 'x_rpi_rating', 'y_rpi_rating']"
   ]
  },
  {
   "cell_type": "code",
   "execution_count": 4,
   "metadata": {
    "collapsed": true
   },
   "outputs": [],
   "source": [
    "X = dataframe[columns]\n",
    "\n",
    "Y = dataframe.Result\n",
    "Y = np.ravel(Y)"
   ]
  },
  {
   "cell_type": "code",
   "execution_count": 5,
   "metadata": {
    "collapsed": false
   },
   "outputs": [
    {
     "name": "stdout",
     "output_type": "stream",
     "text": [
      "557 557 240 240\n"
     ]
    }
   ],
   "source": [
    "X_train, X_test, Y_train, Y_test = train_test_split(X, Y, test_size=0.3)\n",
    "print len(X_train), len(Y_train), len(X_test), len(Y_test)"
   ]
  },
  {
   "cell_type": "code",
   "execution_count": 6,
   "metadata": {
    "collapsed": false
   },
   "outputs": [],
   "source": [
    "log_reg = LogisticRegression()\n",
    "rand_for = RandomForestClassifier()\n",
    "dec_tree = DecisionTreeClassifier()\n",
    "bag_class = BaggingClassifier()\n",
    "naive_bay = GaussianNB()\n",
    "k_near_n = KNeighborsClassifier()"
   ]
  },
  {
   "cell_type": "code",
   "execution_count": null,
   "metadata": {
    "collapsed": false
   },
   "outputs": [],
   "source": []
  },
  {
   "cell_type": "markdown",
   "metadata": {},
   "source": [
    "<h1><b>LOGISTIC REGRESSION</b></h1>"
   ]
  },
  {
   "cell_type": "code",
   "execution_count": 7,
   "metadata": {
    "collapsed": false
   },
   "outputs": [
    {
     "data": {
      "text/html": [
       "<div>\n",
       "<table border=\"1\" class=\"dataframe\">\n",
       "  <thead>\n",
       "    <tr style=\"text-align: right;\">\n",
       "      <th></th>\n",
       "      <th>Rank</th>\n",
       "      <th>Feature</th>\n",
       "      <th>Support</th>\n",
       "    </tr>\n",
       "  </thead>\n",
       "  <tbody>\n",
       "    <tr>\n",
       "      <th>0</th>\n",
       "      <td>1</td>\n",
       "      <td>Pythag_x</td>\n",
       "      <td>True</td>\n",
       "    </tr>\n",
       "    <tr>\n",
       "      <th>1</th>\n",
       "      <td>1</td>\n",
       "      <td>Pythag_y</td>\n",
       "      <td>True</td>\n",
       "    </tr>\n",
       "    <tr>\n",
       "      <th>2</th>\n",
       "      <td>1</td>\n",
       "      <td>x_rpi_rating</td>\n",
       "      <td>True</td>\n",
       "    </tr>\n",
       "    <tr>\n",
       "      <th>3</th>\n",
       "      <td>1</td>\n",
       "      <td>y_rpi_rating</td>\n",
       "      <td>True</td>\n",
       "    </tr>\n",
       "  </tbody>\n",
       "</table>\n",
       "</div>"
      ],
      "text/plain": [
       "   Rank       Feature Support\n",
       "0     1      Pythag_x    True\n",
       "1     1      Pythag_y    True\n",
       "2     1  x_rpi_rating    True\n",
       "3     1  y_rpi_rating    True"
      ]
     },
     "execution_count": 7,
     "metadata": {},
     "output_type": "execute_result"
    }
   ],
   "source": [
    "log_reg_RFE = RFE(log_reg, 6)\n",
    "log_reg_RFE.fit(X_train[['Pythag_x', 'Pythag_y', 'x_rpi_rating', 'y_rpi_rating']], Y_train)\n",
    "\n",
    "log_reg_RFE_df = pd.DataFrame()\n",
    "\n",
    "log_reg_RFE_df['Rank'] = log_reg_RFE.ranking_\n",
    "log_reg_RFE_df['Feature'] = X_train[['Pythag_x', 'Pythag_y', 'x_rpi_rating', 'y_rpi_rating']].columns\n",
    "log_reg_RFE_df['Support'] = log_reg_RFE.support_\n",
    "log_reg_RFE_df[log_reg_RFE_df.Support == True]\n"
   ]
  },
  {
   "cell_type": "code",
   "execution_count": 8,
   "metadata": {
    "collapsed": false
   },
   "outputs": [
    {
     "name": "stdout",
     "output_type": "stream",
     "text": [
      "Logistic Regression model accuracy: 0.725\n"
     ]
    }
   ],
   "source": [
    "print 'Logistic Regression model accuracy: ' + str(log_reg_RFE.score(X_test[['Pythag_x', 'Pythag_y', 'x_rpi_rating', 'y_rpi_rating']], Y_test))"
   ]
  },
  {
   "cell_type": "code",
   "execution_count": 9,
   "metadata": {
    "collapsed": false
   },
   "outputs": [],
   "source": [
    "actual = Y_test\n",
    "false_positive_rate, true_positive_rate, thresholds = roc_curve(actual, \n",
    "log_reg_RFE.predict_proba(X_test[['Pythag_x', 'Pythag_y', 'x_rpi_rating', 'y_rpi_rating']])[:,1])\n",
    "logreg_roc_auc = auc(false_positive_rate, true_positive_rate)"
   ]
  },
  {
   "cell_type": "code",
   "execution_count": 10,
   "metadata": {
    "collapsed": false
   },
   "outputs": [
    {
     "data": {
      "text/plain": [
       "<matplotlib.text.Text at 0x117d0e810>"
      ]
     },
     "execution_count": 10,
     "metadata": {},
     "output_type": "execute_result"
    },
    {
     "data": {
      "image/png": "[encoded data removed]",
      "text/plain": [
       "<matplotlib.figure.Figure at 0x11c341e50>"
      ]
     },
     "metadata": {},
     "output_type": "display_data"
    }
   ],
   "source": [
    "plt.title('LogReg ROC Plot')\n",
    "plt.plot(false_positive_rate, true_positive_rate, 'b',\n",
    "label='AUC = %0.2f'% logreg_roc_auc)\n",
    "plt.legend(loc='lower right')\n",
    "plt.plot([0,1],[0,1],'r--')\n",
    "plt.xlim([-0.1,1.2])\n",
    "plt.ylim([-0.1,1.2])\n",
    "plt.ylabel('True Positive Rate')\n",
    "plt.xlabel('False Positive Rate')"
   ]
  },
  {
   "cell_type": "code",
   "execution_count": 11,
   "metadata": {
    "collapsed": false
   },
   "outputs": [],
   "source": [
    "log_reg_export = pd.DataFrame(log_reg_RFE.predict_proba(X[['Pythag_x', 'Pythag_y', 'x_rpi_rating', 'y_rpi_rating']]))\n",
    "log_reg_export['GameID'] = dataframe.game_id\n",
    "log_reg_export['Season'] = dataframe.season\n",
    "log_reg_export['Actual_Result'] = dataframe.Result"
   ]
  },
  {
   "cell_type": "code",
   "execution_count": 12,
   "metadata": {
    "collapsed": false
   },
   "outputs": [],
   "source": [
    "log_reg_export.to_csv('Logistic_Regression_Test.csv')"
   ]
  },
  {
   "cell_type": "markdown",
   "metadata": {},
   "source": [
    "<h1><b>DECISION TREE</b></h1>"
   ]
  },
  {
   "cell_type": "code",
   "execution_count": 13,
   "metadata": {
    "collapsed": false
   },
   "outputs": [
    {
     "data": {
      "text/html": [
       "<div>\n",
       "<table border=\"1\" class=\"dataframe\">\n",
       "  <thead>\n",
       "    <tr style=\"text-align: right;\">\n",
       "      <th></th>\n",
       "      <th>Rank</th>\n",
       "      <th>Feature</th>\n",
       "      <th>Support</th>\n",
       "    </tr>\n",
       "  </thead>\n",
       "  <tbody>\n",
       "    <tr>\n",
       "      <th>0</th>\n",
       "      <td>1</td>\n",
       "      <td>Pythag_x</td>\n",
       "      <td>True</td>\n",
       "    </tr>\n",
       "    <tr>\n",
       "      <th>1</th>\n",
       "      <td>1</td>\n",
       "      <td>Pythag_y</td>\n",
       "      <td>True</td>\n",
       "    </tr>\n",
       "    <tr>\n",
       "      <th>2</th>\n",
       "      <td>1</td>\n",
       "      <td>x_rpi_rating</td>\n",
       "      <td>True</td>\n",
       "    </tr>\n",
       "    <tr>\n",
       "      <th>3</th>\n",
       "      <td>1</td>\n",
       "      <td>y_rpi_rating</td>\n",
       "      <td>True</td>\n",
       "    </tr>\n",
       "  </tbody>\n",
       "</table>\n",
       "</div>"
      ],
      "text/plain": [
       "   Rank       Feature Support\n",
       "0     1      Pythag_x    True\n",
       "1     1      Pythag_y    True\n",
       "2     1  x_rpi_rating    True\n",
       "3     1  y_rpi_rating    True"
      ]
     },
     "execution_count": 13,
     "metadata": {},
     "output_type": "execute_result"
    }
   ],
   "source": [
    "dec_tree_RFE = RFE(dec_tree, 4)\n",
    "dec_tree_RFE.fit(X_train[['Pythag_x', 'Pythag_y', 'x_rpi_rating', 'y_rpi_rating']], Y_train)\n",
    "\n",
    "dec_tree_RFE_df = pd.DataFrame()\n",
    "\n",
    "dec_tree_RFE_df['Rank'] = dec_tree_RFE.ranking_\n",
    "dec_tree_RFE_df['Feature'] = X_train[['Pythag_x', 'Pythag_y', 'x_rpi_rating', 'y_rpi_rating']].columns\n",
    "dec_tree_RFE_df['Support'] = dec_tree_RFE.support_\n",
    "dec_tree_RFE_df[dec_tree_RFE_df.Support == True]"
   ]
  },
  {
   "cell_type": "code",
   "execution_count": 14,
   "metadata": {
    "collapsed": false
   },
   "outputs": [
    {
     "name": "stdout",
     "output_type": "stream",
     "text": [
      "Decision Tree model accuracy: 0.7375\n"
     ]
    }
   ],
   "source": [
    "print 'Decision Tree model accuracy: ' + str(dec_tree_RFE.score(X_test[['Pythag_x', 'Pythag_y', 'x_rpi_rating', 'y_rpi_rating']], Y_test))"
   ]
  },
  {
   "cell_type": "code",
   "execution_count": 15,
   "metadata": {
    "collapsed": true
   },
   "outputs": [],
   "source": [
    "actual = Y_test\n",
    "false_positive_rate, true_positive_rate, thresholds = roc_curve(actual, \n",
    "dec_tree_RFE.predict_proba(X_test[['Pythag_x', 'Pythag_y', 'x_rpi_rating', 'y_rpi_rating']])[:,1])\n",
    "dec_tree_roc_auc = auc(false_positive_rate, true_positive_rate)"
   ]
  },
  {
   "cell_type": "code",
   "execution_count": 16,
   "metadata": {
    "collapsed": false
   },
   "outputs": [
    {
     "data": {
      "text/plain": [
       "<matplotlib.text.Text at 0x11a60b990>"
      ]
     },
     "execution_count": 16,
     "metadata": {},
     "output_type": "execute_result"
    },
    {
     "data": {
      "image/png": "[encoded data removed]",
      "text/plain": [
       "<matplotlib.figure.Figure at 0x118e1f710>"
      ]
     },
     "metadata": {},
     "output_type": "display_data"
    }
   ],
   "source": [
    "plt.title('Decision Tree ROC Plot')\n",
    "plt.plot(false_positive_rate, true_positive_rate, 'b',\n",
    "label='AUC = %0.2f'% dec_tree_roc_auc)\n",
    "plt.legend(loc='lower right')\n",
    "plt.plot([0,1],[0,1],'r--')\n",
    "plt.xlim([-0.1,1.2])\n",
    "plt.ylim([-0.1,1.2])\n",
    "plt.ylabel('True Positive Rate')\n",
    "plt.xlabel('False Positive Rate')"
   ]
  },
  {
   "cell_type": "code",
   "execution_count": 17,
   "metadata": {
    "collapsed": false
   },
   "outputs": [],
   "source": [
    "dec_tree_export = pd.DataFrame(dec_tree_RFE.predict_proba(X[['Pythag_x', 'Pythag_y', 'x_rpi_rating', 'y_rpi_rating']]))\n",
    "dec_tree_export['GameID'] = dataframe.game_id\n",
    "dec_tree_export['Season'] = dataframe.season\n",
    "dec_tree_export['Actual_Result'] = dataframe.Result"
   ]
  },
  {
   "cell_type": "code",
   "execution_count": 18,
   "metadata": {
    "collapsed": true
   },
   "outputs": [],
   "source": [
    "dec_tree_export.to_csv('Decision_Tree_test.csv')"
   ]
  },
  {
   "cell_type": "markdown",
   "metadata": {
    "collapsed": true
   },
   "source": [
    "<h1><b>NAIVE BAYES</b></h1>"
   ]
  },
  {
   "cell_type": "code",
   "execution_count": 19,
   "metadata": {
    "collapsed": false
   },
   "outputs": [
    {
     "name": "stdout",
     "output_type": "stream",
     "text": [
      "Naive Baye model accuracy: 0.775\n"
     ]
    }
   ],
   "source": [
    "naive_bay.fit(X_train[['Pythag_x', 'Pythag_y', 'x_rpi_rating', 'y_rpi_rating']], Y_train)\n",
    "\n",
    "print 'Naive Baye model accuracy: ' + str(naive_bay.score(X_test[['Pythag_x', 'Pythag_y', 'x_rpi_rating', 'y_rpi_rating']], Y_test))"
   ]
  },
  {
   "cell_type": "code",
   "execution_count": 20,
   "metadata": {
    "collapsed": true
   },
   "outputs": [],
   "source": [
    "actual = Y_test\n",
    "false_positive_rate, true_positive_rate, thresholds = roc_curve(actual, \n",
    "naive_bay.predict_proba(X_test[['Pythag_x', 'Pythag_y', 'x_rpi_rating', 'y_rpi_rating']])[:,1])\n",
    "naive_bay_auc = auc(false_positive_rate, true_positive_rate)"
   ]
  },
  {
   "cell_type": "code",
   "execution_count": 21,
   "metadata": {
    "collapsed": false
   },
   "outputs": [
    {
     "data": {
      "text/plain": [
       "<matplotlib.text.Text at 0x11c8e5990>"
      ]
     },
     "execution_count": 21,
     "metadata": {},
     "output_type": "execute_result"
    },
    {
     "data": {
      "image/png": "[encoded data removed]",
      "text/plain": [
       "<matplotlib.figure.Figure at 0x11c341190>"
      ]
     },
     "metadata": {},
     "output_type": "display_data"
    }
   ],
   "source": [
    "plt.title('Naive Bayes ROC Plot')\n",
    "plt.plot(false_positive_rate, true_positive_rate, 'b',\n",
    "label='AUC = %0.2f'% naive_bay_auc)\n",
    "plt.legend(loc='lower right')\n",
    "plt.plot([0,1],[0,1],'r--')\n",
    "plt.xlim([-0.1,1.2])\n",
    "plt.ylim([-0.1,1.2])\n",
    "plt.ylabel('True Positive Rate')\n",
    "plt.xlabel('False Positive Rate')"
   ]
  },
  {
   "cell_type": "code",
   "execution_count": 22,
   "metadata": {
    "collapsed": false
   },
   "outputs": [],
   "source": [
    "naive_bay_export = pd.DataFrame(naive_bay.predict_proba(X[['Pythag_x', 'Pythag_y', 'x_rpi_rating', 'y_rpi_rating']]))\n",
    "naive_bay_export['GameID'] = dataframe.game_id\n",
    "naive_bay_export['Season'] = dataframe.season\n",
    "naive_bay_export['Actual_Result'] = dataframe.Result"
   ]
  },
  {
   "cell_type": "code",
   "execution_count": 23,
   "metadata": {
    "collapsed": false
   },
   "outputs": [],
   "source": [
    "naive_bay_export.to_csv('Naive_Bay_test.csv')"
   ]
  },
  {
   "cell_type": "markdown",
   "metadata": {},
   "source": [
    "<h1><b>K NEAREST NEIGHBOR CLASSIFIER</b></h1>"
   ]
  },
  {
   "cell_type": "code",
   "execution_count": 24,
   "metadata": {
    "collapsed": false
   },
   "outputs": [
    {
     "data": {
      "text/plain": [
       "<matplotlib.text.Text at 0x11f1e3e50>"
      ]
     },
     "execution_count": 24,
     "metadata": {},
     "output_type": "execute_result"
    },
    {
     "data": {
      "image/png": "[encoded data removed]",
      "text/plain": [
       "<matplotlib.figure.Figure at 0x117d44a10>"
      ]
     },
     "metadata": {},
     "output_type": "display_data"
    }
   ],
   "source": [
    "# Test k values 1 through 20\n",
    "k_range = range(1, 21)\n",
    "\n",
    "# Set an empty list\n",
    "accuracy = []\n",
    "\n",
    "# Repeat above process for all k values and append the result\n",
    "for k in k_range:\n",
    "    k_near_n = KNeighborsClassifier(n_neighbors= k)\n",
    "    k_near_n.fit(X_train[fantastic_four], Y_train)\n",
    "    Y_pred = k_near_n.predict(X_test[fantastic_four])\n",
    "    accuracy.append(metrics.accuracy_score(Y_test, Y_pred))\n",
    "\n",
    "plt.title('KNN Neigbors by Accuracy')\n",
    "plt.plot(k_range, accuracy)\n",
    "plt.xlabel('K value for for kNN')\n",
    "plt.ylabel('Testing Accuracy')"
   ]
  },
  {
   "cell_type": "code",
   "execution_count": 26,
   "metadata": {
    "collapsed": false
   },
   "outputs": [
    {
     "name": "stdout",
     "output_type": "stream",
     "text": [
      "KNN model accuracy: 0.75\n"
     ]
    }
   ],
   "source": [
    "k_near_n = KNeighborsClassifier(n_neighbors= 4)\n",
    "k_near_n.fit(X_train[fantastic_four], Y_train)\n",
    "print 'KNN model accuracy: ' + str(k_near_n.score(X_test[['Pythag_x', 'Pythag_y', 'x_rpi_rating', 'y_rpi_rating']], Y_test))"
   ]
  },
  {
   "cell_type": "code",
   "execution_count": 27,
   "metadata": {
    "collapsed": true
   },
   "outputs": [],
   "source": [
    "actual = Y_test\n",
    "false_positive_rate, true_positive_rate, thresholds = roc_curve(actual, \n",
    "k_near_n.predict_proba(X_test[['Pythag_x', 'Pythag_y', 'x_rpi_rating', 'y_rpi_rating']])[:,1])\n",
    "knn_auc = auc(false_positive_rate, true_positive_rate)"
   ]
  },
  {
   "cell_type": "code",
   "execution_count": 28,
   "metadata": {
    "collapsed": false
   },
   "outputs": [
    {
     "data": {
      "text/plain": [
       "<matplotlib.text.Text at 0x11c9a8650>"
      ]
     },
     "execution_count": 28,
     "metadata": {},
     "output_type": "execute_result"
    },
    {
     "data": {
      "image/png": "[encoded data removed]",
      "text/plain": [
       "<matplotlib.figure.Figure at 0x117d38d90>"
      ]
     },
     "metadata": {},
     "output_type": "display_data"
    }
   ],
   "source": [
    "plt.title('KNN ROC Plot')\n",
    "plt.plot(false_positive_rate, true_positive_rate, 'b',\n",
    "label='AUC = %0.2f'% knn_auc)\n",
    "plt.legend(loc='lower right')\n",
    "plt.plot([0,1],[0,1],'r--')\n",
    "plt.xlim([-0.1,1.2])\n",
    "plt.ylim([-0.1,1.2])\n",
    "plt.ylabel('True Positive Rate')\n",
    "plt.xlabel('False Positive Rate')"
   ]
  },
  {
   "cell_type": "code",
   "execution_count": 29,
   "metadata": {
    "collapsed": false
   },
   "outputs": [],
   "source": [
    "knn_export = pd.DataFrame(k_near_n.predict_proba(X[fantastic_four]))\n",
    "knn_export['GameID'] = dataframe.game_id\n",
    "knn_export['Season'] = dataframe.season\n",
    "knn_export['Actual_Result'] = dataframe.Result"
   ]
  },
  {
   "cell_type": "code",
   "execution_count": 30,
   "metadata": {
    "collapsed": false
   },
   "outputs": [],
   "source": [
    "knn_export.to_csv('KNN_test.csv')"
   ]
  },
  {
   "cell_type": "markdown",
   "metadata": {
    "collapsed": true
   },
   "source": [
    "<h1><b>RANDOM FOREST</b></h1>"
   ]
  },
  {
   "cell_type": "code",
   "execution_count": 31,
   "metadata": {
    "collapsed": false
   },
   "outputs": [],
   "source": [
    "rand_for.fit(X_train[fantastic_four], Y_train)\n",
    "\n",
    "rand_for_df = pd.DataFrame()\n",
    "\n",
    "rand_for_df['Feature'] = X_train[fantastic_four].columns\n",
    "rand_for_df['Rank'] = rand_for.feature_importances_\n",
    "rand_for_df.sort_values('Rank', inplace= True)"
   ]
  },
  {
   "cell_type": "code",
   "execution_count": 32,
   "metadata": {
    "collapsed": false
   },
   "outputs": [
    {
     "name": "stdout",
     "output_type": "stream",
     "text": [
      "Random forest model accuracy: 0.7375\n"
     ]
    }
   ],
   "source": [
    "print 'Random forest model accuracy: ' + str(rand_for.score(X_test[fantastic_four], Y_test))"
   ]
  },
  {
   "cell_type": "code",
   "execution_count": 33,
   "metadata": {
    "collapsed": false
   },
   "outputs": [
    {
     "data": {
      "text/plain": [
       "<matplotlib.axes._subplots.AxesSubplot at 0x11f5c1250>"
      ]
     },
     "execution_count": 33,
     "metadata": {},
     "output_type": "execute_result"
    },
    {
     "data": {
      "image/png": "[encoded data removed]",
      "text/plain": [
       "<matplotlib.figure.Figure at 0x11c8ee2d0>"
      ]
     },
     "metadata": {},
     "output_type": "display_data"
    }
   ],
   "source": [
    "plt.figure(figsize=(8,8))\n",
    "plt.title('Random Forest Predictor Importance')\n",
    "sns.barplot(x= 'Feature', y = 'Rank', data = rand_for_df, palette= 'Blues')"
   ]
  },
  {
   "cell_type": "code",
   "execution_count": 34,
   "metadata": {
    "collapsed": true
   },
   "outputs": [],
   "source": [
    "actual = Y_test\n",
    "false_positive_rate, true_positive_rate, thresholds = roc_curve(actual, \n",
    "rand_for.predict_proba(X_test[['Pythag_x', 'Pythag_y', 'x_rpi_rating', 'y_rpi_rating']])[:,1])\n",
    "rand_for_auc = auc(false_positive_rate, true_positive_rate)"
   ]
  },
  {
   "cell_type": "code",
   "execution_count": 35,
   "metadata": {
    "collapsed": false
   },
   "outputs": [
    {
     "data": {
      "text/plain": [
       "<matplotlib.text.Text at 0x11faa6350>"
      ]
     },
     "execution_count": 35,
     "metadata": {},
     "output_type": "execute_result"
    },
    {
     "data": {
      "image/png": "[encoded data removed]",
      "text/plain": [
       "<matplotlib.figure.Figure at 0x11c8bc810>"
      ]
     },
     "metadata": {},
     "output_type": "display_data"
    }
   ],
   "source": [
    "plt.title('Random Forest ROC Plot')\n",
    "plt.plot(false_positive_rate, true_positive_rate, 'b',\n",
    "label='AUC = %0.2f'% rand_for_auc)\n",
    "plt.legend(loc='lower right')\n",
    "plt.plot([0,1],[0,1],'r--')\n",
    "plt.xlim([-0.1,1.2])\n",
    "plt.ylim([-0.1,1.2])\n",
    "plt.ylabel('True Positive Rate')\n",
    "plt.xlabel('False Positive Rate')"
   ]
  },
  {
   "cell_type": "code",
   "execution_count": 36,
   "metadata": {
    "collapsed": false
   },
   "outputs": [],
   "source": [
    "rand_for_export = pd.DataFrame(rand_for.predict_proba(X[fantastic_four]))\n",
    "rand_for_export['GameID'] = dataframe.game_id\n",
    "rand_for_export['Season'] = dataframe.season\n",
    "rand_for_export['Actual_Result'] = dataframe.Result"
   ]
  },
  {
   "cell_type": "code",
   "execution_count": 37,
   "metadata": {
    "collapsed": false
   },
   "outputs": [],
   "source": [
    "rand_for_export.to_csv('Random_Forest_test.csv')"
   ]
  },
  {
   "cell_type": "markdown",
   "metadata": {},
   "source": [
    "<h1><b>BAGGING CLASSIFIER</b></h1>"
   ]
  },
  {
   "cell_type": "code",
   "execution_count": 38,
   "metadata": {
    "collapsed": false
   },
   "outputs": [
    {
     "data": {
      "text/plain": [
       "BaggingClassifier(base_estimator=None, bootstrap=True,\n",
       "         bootstrap_features=False, max_features=1.0, max_samples=1.0,\n",
       "         n_estimators=10, n_jobs=1, oob_score=False, random_state=None,\n",
       "         verbose=0, warm_start=False)"
      ]
     },
     "execution_count": 38,
     "metadata": {},
     "output_type": "execute_result"
    }
   ],
   "source": [
    "bag_class.fit(X_train[fantastic_four], Y_train)"
   ]
  },
  {
   "cell_type": "code",
   "execution_count": 39,
   "metadata": {
    "collapsed": false
   },
   "outputs": [
    {
     "name": "stdout",
     "output_type": "stream",
     "text": [
      "Bagging Cassifier accuracy: 0.725\n"
     ]
    }
   ],
   "source": [
    "print 'Bagging Cassifier accuracy: ' + str(bag_class.score(X_test[fantastic_four], Y_test))"
   ]
  },
  {
   "cell_type": "code",
   "execution_count": 40,
   "metadata": {
    "collapsed": true
   },
   "outputs": [],
   "source": [
    "actual = Y_test\n",
    "false_positive_rate, true_positive_rate, thresholds = roc_curve(actual, \n",
    "bag_class.predict_proba(X_test[['Pythag_x', 'Pythag_y', 'x_rpi_rating', 'y_rpi_rating']])[:,1])\n",
    "bag_class_auc = auc(false_positive_rate, true_positive_rate)"
   ]
  },
  {
   "cell_type": "code",
   "execution_count": 41,
   "metadata": {
    "collapsed": false
   },
   "outputs": [
    {
     "data": {
      "text/plain": [
       "<matplotlib.text.Text at 0x11faa64d0>"
      ]
     },
     "execution_count": 41,
     "metadata": {},
     "output_type": "execute_result"
    },
    {
     "data": {
      "image/png": "[encoded data removed]",
      "text/plain": [
       "<matplotlib.figure.Figure at 0x11fbd8fd0>"
      ]
     },
     "metadata": {},
     "output_type": "display_data"
    }
   ],
   "source": [
    "plt.title('Bagging Classifier ROC Plot')\n",
    "plt.plot(false_positive_rate, true_positive_rate, 'b',\n",
    "label='AUC = %0.2f'% bag_class_auc)\n",
    "plt.legend(loc='lower right')\n",
    "plt.plot([0,1],[0,1],'r--')\n",
    "plt.xlim([-0.1,1.2])\n",
    "plt.ylim([-0.1,1.2])\n",
    "plt.ylabel('True Positive Rate')\n",
    "plt.xlabel('False Positive Rate')"
   ]
  },
  {
   "cell_type": "code",
   "execution_count": 42,
   "metadata": {
    "collapsed": false
   },
   "outputs": [],
   "source": [
    "bag_class_export = pd.DataFrame(bag_class.predict_proba(X[fantastic_four]))\n",
    "bag_class_export['GameID'] = dataframe.game_id\n",
    "bag_class_export['Season'] = dataframe.season\n",
    "bag_class_export['Actual_Result'] = dataframe.Result"
   ]
  },
  {
   "cell_type": "code",
   "execution_count": 43,
   "metadata": {
    "collapsed": false
   },
   "outputs": [],
   "source": [
    "bag_class_export.to_csv('Bag_Class_test.csv')"
   ]
  },
  {
   "cell_type": "code",
   "execution_count": 44,
   "metadata": {
    "collapsed": true
   },
   "outputs": [],
   "source": [
    "### MODEL TESTING"
   ]
  },
  {
   "cell_type": "code",
   "execution_count": 45,
   "metadata": {
    "collapsed": false
   },
   "outputs": [],
   "source": [
    "test_set_16 = pd.read_csv('2016_Test_Set.csv')"
   ]
  },
  {
   "cell_type": "code",
   "execution_count": 46,
   "metadata": {
    "collapsed": false
   },
   "outputs": [],
   "source": [
    "X_16 = test_set_16[fantastic_four]"
   ]
  },
  {
   "cell_type": "code",
   "execution_count": 47,
   "metadata": {
    "collapsed": false
   },
   "outputs": [],
   "source": [
    "#log_reg = LogisticRegression()\n",
    "#rand_for = RandomForestClassifier()\n",
    "#dec_tree = DecisionTreeClassifier()\n",
    "#bag_class = BaggingClassifier()\n",
    "#naive_bay = GaussianNB()\n",
    "#k_near_n = KNeighborsClassifier()"
   ]
  },
  {
   "cell_type": "code",
   "execution_count": 48,
   "metadata": {
    "collapsed": false
   },
   "outputs": [],
   "source": [
    "## LOGISTIC REGRESSION\n",
    "\n",
    "game_id = test_set_16['game_id']\n",
    "t116_name = test_set_16['team1_teamname']\n",
    "t216_name = test_set_16['team2_teamname']\n",
    "t1_seed = test_set_16['team1_seed']\n",
    "t2_seed = test_set_16['team2_seed']\n",
    "\n",
    "lreg = pd.DataFrame(log_reg_RFE.predict_proba(X_16))"
   ]
  },
  {
   "cell_type": "code",
   "execution_count": 49,
   "metadata": {
    "collapsed": false
   },
   "outputs": [],
   "source": [
    "lreg_16_export = pd.DataFrame()\n",
    "\n",
    "lreg_16_export['game_id'] = game_id\n",
    "lreg_16_export['t1_name'] = t116_name\n",
    "lreg_16_export['t2_name'] = t216_name\n",
    "lreg_16_export['t1_rpi'] = X_16.x_rpi_rating\n",
    "lreg_16_export['t2_rpi'] = X_16.y_rpi_rating\n",
    "lreg_16_export['t1_pyth'] = X_16.Pythag_x\n",
    "lreg_16_export['t2_pyth'] = X_16.Pythag_y\n",
    "lreg_16_export['t1_seed'] = t1_seed\n",
    "lreg_16_export['t2_seed'] = t2_seed\n",
    "lreg_16_export['prob_lose'] = lreg[0]\n",
    "lreg_16_export['prob_win'] = lreg[1]"
   ]
  },
  {
   "cell_type": "code",
   "execution_count": 50,
   "metadata": {
    "collapsed": false
   },
   "outputs": [],
   "source": [
    "lreg_16_export.to_csv('2016_Testset_Models/Logisitc_TestSet16.csv')"
   ]
  },
  {
   "cell_type": "code",
   "execution_count": 51,
   "metadata": {
    "collapsed": true
   },
   "outputs": [],
   "source": [
    "## RANDOM FOREST CLASSIFIER"
   ]
  },
  {
   "cell_type": "code",
   "execution_count": 52,
   "metadata": {
    "collapsed": false
   },
   "outputs": [],
   "source": [
    "randfdf = pd.DataFrame(rand_for.predict_proba(X_16))"
   ]
  },
  {
   "cell_type": "code",
   "execution_count": 53,
   "metadata": {
    "collapsed": false
   },
   "outputs": [],
   "source": [
    "randf_16_export = pd.DataFrame()\n",
    "\n",
    "randf_16_export['game_id'] = game_id\n",
    "randf_16_export['t1_name'] = t116_name\n",
    "randf_16_export['t2_name'] = t216_name\n",
    "randf_16_export['t1_rpi'] = X_16.x_rpi_rating\n",
    "randf_16_export['t2_rpi'] = X_16.y_rpi_rating\n",
    "randf_16_export['t1_pyth'] = X_16.Pythag_x\n",
    "randf_16_export['t2_pyth'] = X_16.Pythag_y\n",
    "randf_16_export['t1_seed'] = t1_seed\n",
    "randf_16_export['t2_seed'] = t2_seed\n",
    "randf_16_export['prob_lose'] = randfdf[0]\n",
    "randf_16_export['prob_win'] = randfdf[1]"
   ]
  },
  {
   "cell_type": "code",
   "execution_count": 54,
   "metadata": {
    "collapsed": false
   },
   "outputs": [],
   "source": [
    "randf_16_export.to_csv('2016_Testset_Models/RandForest_Test16.csv')"
   ]
  },
  {
   "cell_type": "code",
   "execution_count": 55,
   "metadata": {
    "collapsed": false
   },
   "outputs": [],
   "source": [
    "## NAIVE BAY"
   ]
  },
  {
   "cell_type": "code",
   "execution_count": 56,
   "metadata": {
    "collapsed": true
   },
   "outputs": [],
   "source": [
    "nbdf = pd.DataFrame(naive_bay.predict_proba(X_16))"
   ]
  },
  {
   "cell_type": "code",
   "execution_count": 57,
   "metadata": {
    "collapsed": false
   },
   "outputs": [],
   "source": [
    "nbdf_16_export = pd.DataFrame()\n",
    "\n",
    "nbdf_16_export['game_id'] = game_id\n",
    "nbdf_16_export['t1_name'] = t116_name\n",
    "nbdf_16_export['t2_name'] = t216_name\n",
    "nbdf_16_export['t1_rpi'] = X_16.x_rpi_rating\n",
    "nbdf_16_export['t2_rpi'] = X_16.y_rpi_rating\n",
    "nbdf_16_export['t1_pyth'] = X_16.Pythag_x\n",
    "nbdf_16_export['t2_pyth'] = X_16.Pythag_y\n",
    "nbdf_16_export['t1_seed'] = t1_seed\n",
    "nbdf_16_export['t2_seed'] = t2_seed\n",
    "nbdf_16_export['prob_lose'] = nbdf[0]\n",
    "nbdf_16_export['prob_win'] = nbdf[1]"
   ]
  },
  {
   "cell_type": "code",
   "execution_count": 58,
   "metadata": {
    "collapsed": false
   },
   "outputs": [],
   "source": [
    "nbdf_16_export.to_csv('2016_Testset_Models/NaiveBay_Test16.csv')"
   ]
  },
  {
   "cell_type": "code",
   "execution_count": 59,
   "metadata": {
    "collapsed": true
   },
   "outputs": [],
   "source": [
    "## KNN CLASSIFIER"
   ]
  },
  {
   "cell_type": "code",
   "execution_count": 60,
   "metadata": {
    "collapsed": false
   },
   "outputs": [],
   "source": [
    "knndf = pd.DataFrame(k_near_n.predict_proba(X_16))"
   ]
  },
  {
   "cell_type": "code",
   "execution_count": 61,
   "metadata": {
    "collapsed": false
   },
   "outputs": [],
   "source": [
    "knndf_16_export = pd.DataFrame()\n",
    "\n",
    "knndf_16_export['game_id'] = game_id\n",
    "knndf_16_export['t1_name'] = t116_name\n",
    "knndf_16_export['t2_name'] = t216_name\n",
    "knndf_16_export['t1_rpi'] = X_16.x_rpi_rating\n",
    "knndf_16_export['t2_rpi'] = X_16.y_rpi_rating\n",
    "knndf_16_export['t1_pyth'] = X_16.Pythag_x\n",
    "knndf_16_export['t2_pyth'] = X_16.Pythag_y\n",
    "knndf_16_export['t1_seed'] = t1_seed\n",
    "knndf_16_export['t2_seed'] = t2_seed\n",
    "knndf_16_export['prob_lose'] = knndf[0]\n",
    "knndf_16_export['prob_win'] = knndf[1]"
   ]
  },
  {
   "cell_type": "code",
   "execution_count": 62,
   "metadata": {
    "collapsed": false
   },
   "outputs": [],
   "source": [
    "knndf_16_export.to_csv('2016_Testset_Models/KNN_Test16.csv')"
   ]
  },
  {
   "cell_type": "code",
   "execution_count": 63,
   "metadata": {
    "collapsed": true
   },
   "outputs": [],
   "source": [
    "## DECISION TREE"
   ]
  },
  {
   "cell_type": "code",
   "execution_count": 64,
   "metadata": {
    "collapsed": false
   },
   "outputs": [],
   "source": [
    "dectreedf = pd.DataFrame(dec_tree_RFE.predict_proba(X_16))"
   ]
  },
  {
   "cell_type": "code",
   "execution_count": 65,
   "metadata": {
    "collapsed": false
   },
   "outputs": [],
   "source": [
    "dectreedf_16_export = pd.DataFrame()\n",
    "\n",
    "dectreedf_16_export['game_id'] = game_id\n",
    "dectreedf_16_export['t1_name'] = t116_name\n",
    "dectreedf_16_export['t2_name'] = t216_name\n",
    "dectreedf_16_export['t1_rpi'] = X_16.x_rpi_rating\n",
    "dectreedf_16_export['t2_rpi'] = X_16.y_rpi_rating\n",
    "dectreedf_16_export['t1_pyth'] = X_16.Pythag_x\n",
    "dectreedf_16_export['t2_pyth'] = X_16.Pythag_y\n",
    "dectreedf_16_export['t1_seed'] = t1_seed\n",
    "dectreedf_16_export['t2_seed'] = t2_seed\n",
    "dectreedf_16_export['prob_lose'] = dectreedf[0]\n",
    "dectreedf_16_export['prob_win'] = dectreedf[1]"
   ]
  },
  {
   "cell_type": "code",
   "execution_count": 66,
   "metadata": {
    "collapsed": false
   },
   "outputs": [],
   "source": [
    "dectreedf_16_export.to_csv('2016_Testset_Models/DecTree_Test16.csv')"
   ]
  },
  {
   "cell_type": "code",
   "execution_count": 67,
   "metadata": {
    "collapsed": true
   },
   "outputs": [],
   "source": [
    "## BAGGING CLASSIFIER"
   ]
  },
  {
   "cell_type": "code",
   "execution_count": 68,
   "metadata": {
    "collapsed": false
   },
   "outputs": [],
   "source": [
    "bagdf = pd.DataFrame(bag_class.predict_proba(X_16))"
   ]
  },
  {
   "cell_type": "code",
   "execution_count": 69,
   "metadata": {
    "collapsed": true
   },
   "outputs": [],
   "source": [
    "bagdf_16_export = pd.DataFrame()\n",
    "\n",
    "bagdf_16_export['game_id'] = game_id\n",
    "bagdf_16_export['t1_name'] = t116_name\n",
    "bagdf_16_export['t2_name'] = t216_name\n",
    "bagdf_16_export['t1_rpi'] = X_16.x_rpi_rating\n",
    "bagdf_16_export['t2_rpi'] = X_16.y_rpi_rating\n",
    "bagdf_16_export['t1_pyth'] = X_16.Pythag_x\n",
    "bagdf_16_export['t2_pyth'] = X_16.Pythag_y\n",
    "bagdf_16_export['t1_seed'] = t1_seed\n",
    "bagdf_16_export['t2_seed'] = t2_seed\n",
    "bagdf_16_export['prob_lose'] = bagdf[0]\n",
    "bagdf_16_export['prob_win'] = bagdf[1]"
   ]
  },
  {
   "cell_type": "code",
   "execution_count": 70,
   "metadata": {
    "collapsed": false
   },
   "outputs": [],
   "source": [
    "bagdf_16_export.to_csv('2016_Testset_Models/BagClass_Test16.csv')"
   ]
  }
 ],
 "metadata": {
  "kernelspec": {
   "display_name": "Python 2",
   "language": "python",
   "name": "python2"
  },
  "language_info": {
   "codemirror_mode": {
    "name": "ipython",
    "version": 2
   },
   "file_extension": ".py",
   "mimetype": "text/x-python",
   "name": "python",
   "nbconvert_exporter": "python",
   "pygments_lexer": "ipython2",
   "version": "2.7.10"
  }
 },
 "nbformat": 4,
 "nbformat_minor": 0
}
